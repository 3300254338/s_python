{
  "nbformat": 4,
  "nbformat_minor": 0,
  "metadata": {
    "colab": {
      "name": "Untitled0.ipynb",
      "provenance": [],
      "authorship_tag": "ABX9TyOqsN/53opoGF9LPfkFenxK",
      "include_colab_link": true
    },
    "kernelspec": {
      "name": "python3",
      "display_name": "Python 3"
    }
  },
  "cells": [
    {
      "cell_type": "markdown",
      "metadata": {
        "id": "view-in-github",
        "colab_type": "text"
      },
      "source": [
        "<a href=\"https://colab.research.google.com/github/3300254338/s_python/blob/main/Basics.ipynb\" target=\"_parent\"><img src=\"https://colab.research.google.com/assets/colab-badge.svg\" alt=\"Open In Colab\"/></a>"
      ]
    },
    {
      "cell_type": "code",
      "metadata": {
        "id": "-CpNDHoYp9mw"
      },
      "source": [
        "print (\"helloWord\") "
      ],
      "execution_count": null,
      "outputs": []
    },
    {
      "cell_type": "code",
      "metadata": {
        "id": "vJrin8FUske8"
      },
      "source": [
        "i =12;\r\n",
        "print (i)\r\n",
        "print ( 100 + 200 )"
      ],
      "execution_count": null,
      "outputs": []
    },
    {
      "cell_type": "code",
      "metadata": {
        "id": "m2jyeVSGuANO"
      },
      "source": [
        "print ('I\\'m \\\"OK\\\"')\r\n",
        "print ( '*' * 20)\r\n",
        "print ('\\\\\\n\\\\')\r\n",
        "print ( '*' * 20)\r\n",
        "print ('\\\\\\t\\\\')\r\n",
        "print ( '*' * 20)\r\n",
        "print ('''line1 line2\r\n",
        "line3\r\n",
        "...line4''')"
      ],
      "execution_count": null,
      "outputs": []
    },
    {
      "cell_type": "code",
      "metadata": {
        "colab": {
          "base_uri": "https://localhost:8080/"
        },
        "id": "Rvf1mXewsqNE",
        "outputId": "ac168fa1-1b9b-471b-8235-1cebddfed0f4"
      },
      "source": [
        "print (1==1)\r\n",
        "print (1==2)\r\n",
        "print (1 and 2)\r\n",
        "print (\"*\" * 20)\r\n",
        "\r\n",
        "print ('布尔值')\r\n",
        "print ('and运算是与运算，只有所有都为True，and运算结果才是True：')\r\n",
        "print (True and True)\r\n",
        "print (True and False)\r\n",
        "print (False and False)\r\n",
        "print (5 > 3 and 3 > 1)\r\n",
        "print ( '*' * 20)\r\n",
        "print ('or运算是或运算，只要其中有一个为True，or运算结果就是True：')\r\n",
        "print (True or True)\r\n",
        "print (True or False)\r\n",
        "print (False or False)\r\n",
        "print (5 > 3 or 1 > 3)\r\n",
        "print ( '*' * 20)\r\n",
        "print ('not运算是非运算，它是一个单目运算符，把True变成False，False变成True：')\r\n",
        "print (not True)\r\n",
        "print (not False)\r\n",
        "print (not 1 > 2)\r\n",
        "print ('布尔值经常用在条件判断中，比如：')\r\n",
        "age = 20\r\n",
        "if age >= 18:\r\n",
        "    print('adult')\r\n",
        "else:\r\n",
        "    print('teenager')"
      ],
      "execution_count": 16,
      "outputs": [
        {
          "output_type": "stream",
          "text": [
            "True\n",
            "False\n",
            "2\n",
            "********************\n",
            "布尔值\n",
            "and运算是与运算，只有所有都为True，and运算结果才是True：\n",
            "True\n",
            "False\n",
            "False\n",
            "True\n",
            "********************\n",
            "or运算是或运算，只要其中有一个为True，or运算结果就是True：\n",
            "True\n",
            "True\n",
            "False\n",
            "True\n",
            "********************\n",
            "not运算是非运算，它是一个单目运算符，把True变成False，False变成True：\n",
            "False\n",
            "True\n",
            "True\n",
            "布尔值经常用在条件判断中，比如：\n",
            "adult\n"
          ],
          "name": "stdout"
        }
      ]
    }
  ]
}